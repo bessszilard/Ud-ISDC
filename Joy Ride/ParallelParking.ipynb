{
 "cells": [
  {
   "cell_type": "markdown",
   "metadata": {},
   "source": [
    "# Joy Ride - Part 3: Parallel Parking\n",
    "In this section you will write a function that implements the correct sequence of steps required to parallel park a vehicle.\n",
    "\n",
    "NOTE: for this segment the vehicle's maximum speed has been set to just over 4 mph. This should make parking a little easier.\n",
    "\n",
    "![](https://upload.wikimedia.org/wikipedia/commons/2/26/ParallelParkingAnimation.gif)"
   ]
  },
  {
   "cell_type": "markdown",
   "metadata": {},
   "source": [
    "If you have never heard of WASD keys, please check out this [link](https://en.wikipedia.org/wiki/Arrow_keys#WASD_keys)."
   ]
  },
  {
   "cell_type": "code",
   "execution_count": 1,
   "metadata": {},
   "outputs": [
    {
     "data": {
      "text/html": [
       "<link rel=\"stylesheet\" type=\"text/css\" href=\"buttonStyle.css\">\n",
       "<button id=\"launcher\">Launch Car Simulator</button>\n",
       "<button id=\"restart\">Restart Connection</button>\n",
       "<script src=\"setupLauncher.js\"></script>\n",
       "<script src=\"kernelRestart.js\"></script>"
      ],
      "text/plain": [
       "<IPython.core.display.HTML object>"
      ]
     },
     "metadata": {},
     "output_type": "display_data"
    }
   ],
   "source": [
    "%%HTML\n",
    "<link rel=\"stylesheet\" type=\"text/css\" href=\"buttonStyle.css\">\n",
    "<button id=\"launcher\">Launch Car Simulator</button>\n",
    "<button id=\"restart\">Restart Connection</button>\n",
    "<script src=\"setupLauncher.js\"></script>\n",
    "<script src=\"kernelRestart.js\"></script>"
   ]
  },
  {
   "cell_type": "code",
   "execution_count": null,
   "metadata": {},
   "outputs": [
    {
     "name": "stdout",
     "output_type": "stream",
     "text": [
      "running\n",
      "CONNECTED\n",
      "('172.18.0.1', 42116) connected\n",
      "CONNECTED\n",
      "('172.18.0.1', 42120) connected\n",
      "('172.18.0.1', 42116) closed\n"
     ]
    }
   ],
   "source": [
    "# Before running any code changes make sure to click the button \"Restart Connection\" above first.\n",
    "# Also make sure to click Reset in the simulator to refresh the connection.\n",
    "# After making any code changes, make sure to click the button \"Restart Connection\" above first. Then re-run your code cell (Ctrl+Enter).\n",
    "# You need to wait for the Kernel Ready message.\n",
    "from enum import Enum\n",
    "\n",
    "car_parameters = {\"throttle\": 0, \"steer\": 0, \"brake\": 0}\n",
    "\n",
    "def control(pos_x, pos_y, time, velocity):\n",
    "    \"\"\" Controls the simulated car\"\"\"\n",
    "    global car_parameters\n",
    "    global parkingStates\n",
    "    global tempTimer\n",
    "    \n",
    "    # avoid rear crash\n",
    "    if pos_y <= 30.5:\n",
    "        car_parameters['steer'] = 0\n",
    "        car_parameters['throttle'] = 0\n",
    "        car_parameters['brake'] = 1\n",
    "\n",
    "    # simple solution\n",
    "    if pos_y > 36.6:\n",
    "        car_parameters['steer'] = 25\n",
    "        car_parameters['throttle'] = -1\n",
    "        car_parameters['brake'] = 0\n",
    "    elif pos_x < 126:\n",
    "        car_parameters['steer'] = 0\n",
    "        car_parameters['throttle'] = -1\n",
    "    elif pos_y > 32.3:\n",
    "        car_parameters['steer'] = -25\n",
    "        car_parameters['throttle'] = -1\n",
    "    else:\n",
    "        car_parameters['steer'] = 0\n",
    "        car_parameters['throttle'] = 0\n",
    "        car_parameters['brake'] = 1\n",
    "        \n",
    "    return car_parameters\n",
    "    \n",
    "import src.simulate as sim\n",
    "sim.run(control)\n"
   ]
  },
  {
   "cell_type": "markdown",
   "metadata": {},
   "source": [
    "# Submitting this Project!\n",
    "Your parallel park function is \"correct\" when:\n",
    "\n",
    "1. Your car doesn't hit any other cars.\n",
    "2. Your car stops completely inside of the right lane.\n",
    "\n",
    "Once you've got it working, it's time to submit. Submit by pressing the `SUBMIT` button at the lower right corner of this page."
   ]
  },
  {
   "cell_type": "code",
   "execution_count": null,
   "metadata": {},
   "outputs": [
    {
     "name": "stdout",
     "output_type": "stream",
     "text": [
      "running\n",
      "CONNECTED\n",
      "('172.18.0.1', 42700) connected\n",
      "('172.18.0.1', 42700) closed\n"
     ]
    }
   ],
   "source": [
    "# Before running any code changes make sure to click the button \"Restart Connection\" above first.\n",
    "# Also make sure to click Reset in the simulator to refresh the connection.\n",
    "# After making any code changes, make sure to click the button \"Restart Connection\" above first. Then re-run your code cell (Ctrl+Enter).\n",
    "# You need to wait for the Kernel Ready message.\n",
    "from enum import Enum\n",
    "\n",
    "#parking States\n",
    "class pS_Enum(Enum):\n",
    "    BWD_ROTACLOCKWISE = 0\n",
    "    BWD_STRAIGHT = 1\n",
    "    BWD_ROTCLOCKWISE = 2\n",
    "    STOP = 3\n",
    "\n",
    "car_parameters = {\"throttle\": 0, \"steer\": 0, \"brake\": 0}\n",
    "parkingStates = pS_Enum.BWD_ROTACLOCKWISE\n",
    "\n",
    "def control(pos_x, pos_y, time, velocity):\n",
    "    \"\"\" Controls the simulated car\"\"\"\n",
    "    global car_parameters\n",
    "    global parkingStates\n",
    "\n",
    "    # solution with state machine\n",
    "    if time < 1 :\n",
    "        # reset state machine \n",
    "        parkingStates = pS_Enum.BWD_ROTACLOCKWISE   \n",
    "    \n",
    "    if parkingStates == pS_Enum.BWD_ROTACLOCKWISE :  \n",
    "        car_parameters['steer'] = 25\n",
    "        car_parameters['throttle'] = -1\n",
    "        car_parameters['brake'] = 0 \n",
    "        \n",
    "        #event\n",
    "        if pos_y < 36.6:\n",
    "            parkingStates = pS_Enum.BWD_STRAIGHT\n",
    "            \n",
    "    elif parkingStates == pS_Enum.BWD_STRAIGHT :\n",
    "        car_parameters['steer'] = 25\n",
    "        car_parameters['throttle'] = -1\n",
    "        car_parameters['brake'] = 0\n",
    "        \n",
    "        #event\n",
    "        if pos_x < 126:\n",
    "            parkingStates = pS_Enum.BWD_ROTCLOCKWISE\n",
    "            \n",
    "    elif parkingStates == pS_Enum.BWD_ROTCLOCKWISE :\n",
    "        car_parameters['steer'] = -25\n",
    "        car_parameters['throttle'] = -1\n",
    "        car_parameters['brake'] = 0\n",
    "        \n",
    "        #event\n",
    "        if pos_y <= 32.3:\n",
    "            parkingStates = pS_Enum.STOP\n",
    "            tempTimer = time\n",
    "    \n",
    "    elif parkingStates == pS_Enum.STOP :\n",
    "        car_parameters['steer'] = 0\n",
    "        car_parameters['throttle'] = 0\n",
    "        car_parameters['brake'] = 1\n",
    "    \n",
    "    else :\n",
    "        car_parameters['steer'] = 0\n",
    "        car_parameters['throttle'] = 0\n",
    "        car_parameters['brake'] = 1\n",
    "        \n",
    "    return car_parameters\n",
    "    \n",
    "import src.simulate as sim\n",
    "sim.run(control)\n"
   ]
  }
 ],
 "metadata": {
  "kernelspec": {
   "display_name": "Python 3",
   "language": "python",
   "name": "python3"
  },
  "language_info": {
   "codemirror_mode": {
    "name": "ipython",
    "version": 3
   },
   "file_extension": ".py",
   "mimetype": "text/x-python",
   "name": "python",
   "nbconvert_exporter": "python",
   "pygments_lexer": "ipython3",
   "version": "3.6.3"
  }
 },
 "nbformat": 4,
 "nbformat_minor": 2
}
